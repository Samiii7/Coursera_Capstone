{
 "cells": [
  {
   "cell_type": "markdown",
   "metadata": {},
   "source": [
    "# Data Science Project Week 4th\n",
    "\n",
    "\n",
    "## INTRODUCTION\n",
    "This is a capstone project for IBM Data Science Professional Certificate.In this project, I am creating a hypothetical scenario for a concept that there may not be enough Indian Restaurants in Toronto Area. Therefore it might be a great opportunity for an entrepreneur who is based in Canada. As the Indian food is popular among Asian community, so this entrepreneur might think of opening its business in areas where asian community resides.With the purpose in mind, finding the location to open such a restaurant is one of the most important decisions for this entrepreneur and I am designing this project to help him find the mostsuitable location.\n",
    "\n",
    "## BUSINESS PROBLEM\n",
    "The objective of this capstone project is to find the most suitable location for the entrepreneur to open a new Indian Restaurant in Toronto,Canada. By using data science methods and tools along with machine learning algorithms such as clustering, this project aims to provide solutions to answer the business question : In Toronto, if an entrepreneur wants to open an Indian Restaurant, where should they consider opening it?\n",
    "\n",
    "## DATA \n",
    "To solve this problem, we will need below data:\n",
    "● List of neighborhoods in Toronto, Canada\n",
    "● Latitude and Longitude of these neighborhoods\n",
    "● Venue data related to Indian restaurants. This will help us find the neighborhoods that are more suitable to open an Indian Restaurant.\n",
    "\n",
    "## EXTRACTING THE DATA\n",
    "\n",
    "● Scrapping of Toronto neighborhoods via Wikipedia\n",
    "● Getting Latitude and Longitude data of these neighborhoods via\n",
    "Geocoder package\n",
    "● Using Foursquare API to get venue data related to these neighborhoods"
   ]
  },
  {
   "cell_type": "code",
   "execution_count": null,
   "metadata": {},
   "outputs": [],
   "source": []
  }
 ],
 "metadata": {
  "kernelspec": {
   "display_name": "Python 3",
   "language": "python",
   "name": "python3"
  },
  "language_info": {
   "codemirror_mode": {
    "name": "ipython",
    "version": 3
   },
   "file_extension": ".py",
   "mimetype": "text/x-python",
   "name": "python",
   "nbconvert_exporter": "python",
   "pygments_lexer": "ipython3",
   "version": "3.7.6"
  }
 },
 "nbformat": 4,
 "nbformat_minor": 4
}
